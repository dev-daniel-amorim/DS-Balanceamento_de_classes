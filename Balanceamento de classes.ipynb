{
 "cells": [
  {
   "cell_type": "markdown",
   "id": "0b3d3cca",
   "metadata": {},
   "source": [
    "# Balanceamento de classes\n",
    "\n",
    "Vamos abordar classes desbalanceadas, usaremos algumas tecnicas e por último, no SMOTE veremos a diferença de balancear ou não a validação.<br>\n",
    "OBS: Como nosso objetivo neste tutorial é tratar o balanceamento de dados não trataremos a tabela com a devida atenção."
   ]
  },
  {
   "cell_type": "markdown",
   "id": "82990c2e",
   "metadata": {},
   "source": [
    "## Bibliotecas"
   ]
  },
  {
   "cell_type": "code",
   "execution_count": 231,
   "id": "fe69fc69",
   "metadata": {},
   "outputs": [],
   "source": [
    "import warnings\n",
    "warnings.filterwarnings('ignore', category=DeprecationWarning)"
   ]
  },
  {
   "cell_type": "code",
   "execution_count": 232,
   "id": "c73ed74e",
   "metadata": {},
   "outputs": [],
   "source": [
    "#!pip install imblearn"
   ]
  },
  {
   "cell_type": "code",
   "execution_count": 233,
   "id": "4f8f2b0c",
   "metadata": {},
   "outputs": [],
   "source": [
    "import numpy as np\n",
    "import pandas as pd\n",
    "from sklearn.preprocessing import LabelEncoder\n",
    "from sklearn.linear_model import LogisticRegression\n",
    "from sklearn.model_selection import train_test_split\n",
    "from sklearn.metrics import accuracy_score, confusion_matrix, classification_report\n",
    "from imblearn.over_sampling import SMOTE\n",
    "from imblearn.under_sampling import NearMiss\n",
    "import seaborn as sns"
   ]
  },
  {
   "cell_type": "markdown",
   "id": "71b8b2b3",
   "metadata": {},
   "source": [
    "## Coleta de dados\n",
    "Coluna default (alvo), fraudes."
   ]
  },
  {
   "cell_type": "code",
   "execution_count": 234,
   "id": "0da41ca2",
   "metadata": {},
   "outputs": [
    {
     "data": {
      "text/html": [
       "<div>\n",
       "<style scoped>\n",
       "    .dataframe tbody tr th:only-of-type {\n",
       "        vertical-align: middle;\n",
       "    }\n",
       "\n",
       "    .dataframe tbody tr th {\n",
       "        vertical-align: top;\n",
       "    }\n",
       "\n",
       "    .dataframe thead th {\n",
       "        text-align: right;\n",
       "    }\n",
       "</style>\n",
       "<table border=\"1\" class=\"dataframe\">\n",
       "  <thead>\n",
       "    <tr style=\"text-align: right;\">\n",
       "      <th></th>\n",
       "      <th>age</th>\n",
       "      <th>job</th>\n",
       "      <th>marital</th>\n",
       "      <th>education</th>\n",
       "      <th>default</th>\n",
       "      <th>balance</th>\n",
       "      <th>housing</th>\n",
       "      <th>loan</th>\n",
       "      <th>contact</th>\n",
       "      <th>day</th>\n",
       "      <th>month</th>\n",
       "      <th>duration</th>\n",
       "      <th>campaign</th>\n",
       "      <th>pdays</th>\n",
       "      <th>previous</th>\n",
       "      <th>poutcome</th>\n",
       "      <th>Target</th>\n",
       "    </tr>\n",
       "  </thead>\n",
       "  <tbody>\n",
       "    <tr>\n",
       "      <th>0</th>\n",
       "      <td>58</td>\n",
       "      <td>management</td>\n",
       "      <td>married</td>\n",
       "      <td>tertiary</td>\n",
       "      <td>no</td>\n",
       "      <td>2143</td>\n",
       "      <td>yes</td>\n",
       "      <td>no</td>\n",
       "      <td>unknown</td>\n",
       "      <td>5</td>\n",
       "      <td>may</td>\n",
       "      <td>261</td>\n",
       "      <td>1</td>\n",
       "      <td>-1</td>\n",
       "      <td>0</td>\n",
       "      <td>unknown</td>\n",
       "      <td>no</td>\n",
       "    </tr>\n",
       "    <tr>\n",
       "      <th>1</th>\n",
       "      <td>44</td>\n",
       "      <td>technician</td>\n",
       "      <td>single</td>\n",
       "      <td>secondary</td>\n",
       "      <td>no</td>\n",
       "      <td>29</td>\n",
       "      <td>yes</td>\n",
       "      <td>no</td>\n",
       "      <td>unknown</td>\n",
       "      <td>5</td>\n",
       "      <td>may</td>\n",
       "      <td>151</td>\n",
       "      <td>1</td>\n",
       "      <td>-1</td>\n",
       "      <td>0</td>\n",
       "      <td>unknown</td>\n",
       "      <td>no</td>\n",
       "    </tr>\n",
       "    <tr>\n",
       "      <th>2</th>\n",
       "      <td>33</td>\n",
       "      <td>entrepreneur</td>\n",
       "      <td>married</td>\n",
       "      <td>secondary</td>\n",
       "      <td>no</td>\n",
       "      <td>2</td>\n",
       "      <td>yes</td>\n",
       "      <td>yes</td>\n",
       "      <td>unknown</td>\n",
       "      <td>5</td>\n",
       "      <td>may</td>\n",
       "      <td>76</td>\n",
       "      <td>1</td>\n",
       "      <td>-1</td>\n",
       "      <td>0</td>\n",
       "      <td>unknown</td>\n",
       "      <td>no</td>\n",
       "    </tr>\n",
       "    <tr>\n",
       "      <th>3</th>\n",
       "      <td>47</td>\n",
       "      <td>blue-collar</td>\n",
       "      <td>married</td>\n",
       "      <td>unknown</td>\n",
       "      <td>no</td>\n",
       "      <td>1506</td>\n",
       "      <td>yes</td>\n",
       "      <td>no</td>\n",
       "      <td>unknown</td>\n",
       "      <td>5</td>\n",
       "      <td>may</td>\n",
       "      <td>92</td>\n",
       "      <td>1</td>\n",
       "      <td>-1</td>\n",
       "      <td>0</td>\n",
       "      <td>unknown</td>\n",
       "      <td>no</td>\n",
       "    </tr>\n",
       "  </tbody>\n",
       "</table>\n",
       "</div>"
      ],
      "text/plain": [
       "   age           job  marital  education default  balance housing loan  \\\n",
       "0   58    management  married   tertiary      no     2143     yes   no   \n",
       "1   44    technician   single  secondary      no       29     yes   no   \n",
       "2   33  entrepreneur  married  secondary      no        2     yes  yes   \n",
       "3   47   blue-collar  married    unknown      no     1506     yes   no   \n",
       "\n",
       "   contact  day month  duration  campaign  pdays  previous poutcome Target  \n",
       "0  unknown    5   may       261         1     -1         0  unknown     no  \n",
       "1  unknown    5   may       151         1     -1         0  unknown     no  \n",
       "2  unknown    5   may        76         1     -1         0  unknown     no  \n",
       "3  unknown    5   may        92         1     -1         0  unknown     no  "
      ]
     },
     "execution_count": 234,
     "metadata": {},
     "output_type": "execute_result"
    }
   ],
   "source": [
    "df = pd.read_csv(\"bank-full.csv\", sep=',' )\n",
    "df.head(4)"
   ]
  },
  {
   "cell_type": "markdown",
   "id": "77d3f6d3",
   "metadata": {},
   "source": [
    "## Tratamento de dados\n",
    "Transformando em variáveis dummies"
   ]
  },
  {
   "cell_type": "code",
   "execution_count": 235,
   "id": "8bac6722",
   "metadata": {},
   "outputs": [
    {
     "data": {
      "text/html": [
       "<div>\n",
       "<style scoped>\n",
       "    .dataframe tbody tr th:only-of-type {\n",
       "        vertical-align: middle;\n",
       "    }\n",
       "\n",
       "    .dataframe tbody tr th {\n",
       "        vertical-align: top;\n",
       "    }\n",
       "\n",
       "    .dataframe thead th {\n",
       "        text-align: right;\n",
       "    }\n",
       "</style>\n",
       "<table border=\"1\" class=\"dataframe\">\n",
       "  <thead>\n",
       "    <tr style=\"text-align: right;\">\n",
       "      <th></th>\n",
       "      <th>age</th>\n",
       "      <th>education</th>\n",
       "      <th>default</th>\n",
       "      <th>balance</th>\n",
       "      <th>housing</th>\n",
       "      <th>loan</th>\n",
       "      <th>contact</th>\n",
       "      <th>day</th>\n",
       "      <th>month</th>\n",
       "      <th>duration</th>\n",
       "      <th>...</th>\n",
       "      <th>job_retired</th>\n",
       "      <th>job_self-employed</th>\n",
       "      <th>job_services</th>\n",
       "      <th>job_student</th>\n",
       "      <th>job_technician</th>\n",
       "      <th>job_unemployed</th>\n",
       "      <th>job_unknown</th>\n",
       "      <th>marital_divorced</th>\n",
       "      <th>marital_married</th>\n",
       "      <th>marital_single</th>\n",
       "    </tr>\n",
       "  </thead>\n",
       "  <tbody>\n",
       "    <tr>\n",
       "      <th>0</th>\n",
       "      <td>58</td>\n",
       "      <td>2</td>\n",
       "      <td>0</td>\n",
       "      <td>2143</td>\n",
       "      <td>1</td>\n",
       "      <td>0</td>\n",
       "      <td>2</td>\n",
       "      <td>5</td>\n",
       "      <td>8</td>\n",
       "      <td>261</td>\n",
       "      <td>...</td>\n",
       "      <td>0</td>\n",
       "      <td>0</td>\n",
       "      <td>0</td>\n",
       "      <td>0</td>\n",
       "      <td>0</td>\n",
       "      <td>0</td>\n",
       "      <td>0</td>\n",
       "      <td>0</td>\n",
       "      <td>1</td>\n",
       "      <td>0</td>\n",
       "    </tr>\n",
       "    <tr>\n",
       "      <th>1</th>\n",
       "      <td>44</td>\n",
       "      <td>1</td>\n",
       "      <td>0</td>\n",
       "      <td>29</td>\n",
       "      <td>1</td>\n",
       "      <td>0</td>\n",
       "      <td>2</td>\n",
       "      <td>5</td>\n",
       "      <td>8</td>\n",
       "      <td>151</td>\n",
       "      <td>...</td>\n",
       "      <td>0</td>\n",
       "      <td>0</td>\n",
       "      <td>0</td>\n",
       "      <td>0</td>\n",
       "      <td>1</td>\n",
       "      <td>0</td>\n",
       "      <td>0</td>\n",
       "      <td>0</td>\n",
       "      <td>0</td>\n",
       "      <td>1</td>\n",
       "    </tr>\n",
       "    <tr>\n",
       "      <th>2</th>\n",
       "      <td>33</td>\n",
       "      <td>1</td>\n",
       "      <td>0</td>\n",
       "      <td>2</td>\n",
       "      <td>1</td>\n",
       "      <td>1</td>\n",
       "      <td>2</td>\n",
       "      <td>5</td>\n",
       "      <td>8</td>\n",
       "      <td>76</td>\n",
       "      <td>...</td>\n",
       "      <td>0</td>\n",
       "      <td>0</td>\n",
       "      <td>0</td>\n",
       "      <td>0</td>\n",
       "      <td>0</td>\n",
       "      <td>0</td>\n",
       "      <td>0</td>\n",
       "      <td>0</td>\n",
       "      <td>1</td>\n",
       "      <td>0</td>\n",
       "    </tr>\n",
       "    <tr>\n",
       "      <th>3</th>\n",
       "      <td>47</td>\n",
       "      <td>3</td>\n",
       "      <td>0</td>\n",
       "      <td>1506</td>\n",
       "      <td>1</td>\n",
       "      <td>0</td>\n",
       "      <td>2</td>\n",
       "      <td>5</td>\n",
       "      <td>8</td>\n",
       "      <td>92</td>\n",
       "      <td>...</td>\n",
       "      <td>0</td>\n",
       "      <td>0</td>\n",
       "      <td>0</td>\n",
       "      <td>0</td>\n",
       "      <td>0</td>\n",
       "      <td>0</td>\n",
       "      <td>0</td>\n",
       "      <td>0</td>\n",
       "      <td>1</td>\n",
       "      <td>0</td>\n",
       "    </tr>\n",
       "  </tbody>\n",
       "</table>\n",
       "<p>4 rows × 30 columns</p>\n",
       "</div>"
      ],
      "text/plain": [
       "   age  education  default  balance  housing  loan  contact  day  month  \\\n",
       "0   58          2        0     2143        1     0        2    5      8   \n",
       "1   44          1        0       29        1     0        2    5      8   \n",
       "2   33          1        0        2        1     1        2    5      8   \n",
       "3   47          3        0     1506        1     0        2    5      8   \n",
       "\n",
       "   duration  ...  job_retired  job_self-employed  job_services  job_student  \\\n",
       "0       261  ...            0                  0             0            0   \n",
       "1       151  ...            0                  0             0            0   \n",
       "2        76  ...            0                  0             0            0   \n",
       "3        92  ...            0                  0             0            0   \n",
       "\n",
       "   job_technician  job_unemployed  job_unknown  marital_divorced  \\\n",
       "0               0               0            0                 0   \n",
       "1               1               0            0                 0   \n",
       "2               0               0            0                 0   \n",
       "3               0               0            0                 0   \n",
       "\n",
       "   marital_married  marital_single  \n",
       "0                1               0  \n",
       "1                0               1  \n",
       "2                1               0  \n",
       "3                1               0  \n",
       "\n",
       "[4 rows x 30 columns]"
      ]
     },
     "execution_count": 235,
     "metadata": {},
     "output_type": "execute_result"
    }
   ],
   "source": [
    "cols = ['education', 'default',  'housing',\n",
    "       'loan', 'contact', 'month', 'poutcome', 'Target']\n",
    "# Aplicando LabelEncoder para coluna facebook (0 ou 1)\n",
    "for col in cols:\n",
    "    encoder = LabelEncoder().fit(df[col])\n",
    "    df[col] = encoder.transform(df[col])\n",
    "    \n",
    "# Aplicando One-hot encoder para as demais colunas (usando get_dummies)   \n",
    "col_dummies = ['job', 'marital']\n",
    "\n",
    "\n",
    "df = pd.get_dummies(df, columns = col_dummies)\n",
    "df.head(4)   "
   ]
  },
  {
   "cell_type": "markdown",
   "id": "b322b66f",
   "metadata": {},
   "source": [
    "### Treinando o modelo (sem balancear)"
   ]
  },
  {
   "cell_type": "code",
   "execution_count": 236,
   "id": "bc0ece8a",
   "metadata": {},
   "outputs": [
    {
     "data": {
      "text/plain": [
       "0    44396\n",
       "1      815\n",
       "Name: default, dtype: int64"
      ]
     },
     "execution_count": 236,
     "metadata": {},
     "output_type": "execute_result"
    }
   ],
   "source": [
    "# Verificando a discrepancia dos dados\n",
    "# Notamos que está completamente desbalanceados\n",
    "df.default.value_counts()"
   ]
  },
  {
   "cell_type": "code",
   "execution_count": 237,
   "id": "14695be4",
   "metadata": {},
   "outputs": [
    {
     "data": {
      "image/png": "[encoded data removed]",
      "text/plain": [
       "<Figure size 432x288 with 1 Axes>"
      ]
     },
     "metadata": {
      "needs_background": "light"
     },
     "output_type": "display_data"
    }
   ],
   "source": [
    "import seaborn as sns\n",
    "ax = sns.countplot(x='default', data=df)"
   ]
  },
  {
   "cell_type": "markdown",
   "id": "5e35c680",
   "metadata": {},
   "source": [
    "### Algoritmo classificador"
   ]
  },
  {
   "cell_type": "code",
   "execution_count": 238,
   "id": "1ea4201f",
   "metadata": {},
   "outputs": [],
   "source": [
    "lr = LogisticRegression(solver='lbfgs', max_iter=100)\n"
   ]
  },
  {
   "cell_type": "markdown",
   "id": "942fb26b",
   "metadata": {},
   "source": [
    "### Separar dados e suas classes"
   ]
  },
  {
   "cell_type": "code",
   "execution_count": 239,
   "id": "f9a3837d",
   "metadata": {},
   "outputs": [],
   "source": [
    "# Separa a variavel alvo da tabela\n",
    "X = df.drop('default', axis=1)\n",
    "y = df.default"
   ]
  },
  {
   "cell_type": "markdown",
   "id": "79181774",
   "metadata": {},
   "source": [
    "### Separar dados de treino e teste\n",
    "    * Percentual padrão: 70% treino 30% teste\n",
    "    * random_state: Aleatóriedade\n",
    "    * stratify: Proporção iguais de classes para treino e teste"
   ]
  },
  {
   "cell_type": "code",
   "execution_count": 240,
   "id": "310ea6bc",
   "metadata": {},
   "outputs": [],
   "source": [
    "X_train, X_test, y_train, y_test = train_test_split(X, y, random_state=1 , stratify=y)"
   ]
  },
  {
   "cell_type": "markdown",
   "id": "29a5a4a2",
   "metadata": {},
   "source": [
    "### Treinando o algoritmo"
   ]
  },
  {
   "cell_type": "code",
   "execution_count": 241,
   "id": "3ae78d0f",
   "metadata": {},
   "outputs": [
    {
     "name": "stderr",
     "output_type": "stream",
     "text": [
      "C:\\Users\\devda\\anaconda3\\lib\\site-packages\\sklearn\\linear_model\\_logistic.py:814: ConvergenceWarning: lbfgs failed to converge (status=1):\n",
      "STOP: TOTAL NO. of ITERATIONS REACHED LIMIT.\n",
      "\n",
      "Increase the number of iterations (max_iter) or scale the data as shown in:\n",
      "    https://scikit-learn.org/stable/modules/preprocessing.html\n",
      "Please also refer to the documentation for alternative solver options:\n",
      "    https://scikit-learn.org/stable/modules/linear_model.html#logistic-regression\n",
      "  n_iter_i = _check_optimize_result(\n"
     ]
    },
    {
     "data": {
      "text/plain": [
       "LogisticRegression()"
      ]
     },
     "execution_count": 241,
     "metadata": {},
     "output_type": "execute_result"
    }
   ],
   "source": [
    "# passando pro classificador os dados de treino\n",
    "lr.fit(X_train, y_train)"
   ]
  },
  {
   "cell_type": "markdown",
   "id": "985dd8d1",
   "metadata": {},
   "source": [
    "### Coloca as classificações na var y_pred"
   ]
  },
  {
   "cell_type": "code",
   "execution_count": 242,
   "id": "76b4ba24",
   "metadata": {},
   "outputs": [],
   "source": [
    "y_pred = lr.predict(X_test)"
   ]
  },
  {
   "cell_type": "markdown",
   "id": "e19a4301",
   "metadata": {},
   "source": [
    "### Checando a acurácia do modelo"
   ]
  },
  {
   "cell_type": "code",
   "execution_count": 243,
   "id": "05685d53",
   "metadata": {},
   "outputs": [
    {
     "name": "stdout",
     "output_type": "stream",
     "text": [
      "Accuracity de 98.15%\n"
     ]
    }
   ],
   "source": [
    "acc = accuracy_score(y_test, y_pred)\n",
    "print(f'Accuracity de {acc:,.2%}')"
   ]
  },
  {
   "cell_type": "markdown",
   "id": "0dbe6dc0",
   "metadata": {},
   "source": [
    "### Relatório de classificação\n",
    "Observe o Recall"
   ]
  },
  {
   "cell_type": "code",
   "execution_count": 244,
   "id": "52abaf3a",
   "metadata": {},
   "outputs": [
    {
     "name": "stdout",
     "output_type": "stream",
     "text": [
      "              precision    recall  f1-score   support\n",
      "\n",
      "           0       0.98      1.00      0.99     11099\n",
      "           1       0.22      0.01      0.02       204\n",
      "\n",
      "    accuracy                           0.98     11303\n",
      "   macro avg       0.60      0.50      0.50     11303\n",
      "weighted avg       0.97      0.98      0.97     11303\n",
      "\n"
     ]
    }
   ],
   "source": [
    "print(classification_report(y_test, y_pred))"
   ]
  },
  {
   "cell_type": "markdown",
   "id": "c142cbf2",
   "metadata": {},
   "source": [
    "### Matriz de confusão"
   ]
  },
  {
   "cell_type": "code",
   "execution_count": 245,
   "id": "a08a3033",
   "metadata": {},
   "outputs": [
    {
     "name": "stdout",
     "output_type": "stream",
     "text": [
      "Predito      0  1    All\n",
      "Real                    \n",
      "0        11092  7  11099\n",
      "1          202  2    204\n",
      "All      11294  9  11303\n"
     ]
    }
   ],
   "source": [
    "print(pd.crosstab(y_test, y_pred, rownames=['Real'], colnames=['Predito'], margins=True))"
   ]
  },
  {
   "cell_type": "markdown",
   "id": "586a9f73",
   "metadata": {},
   "source": [
    "# Balanceamento de classes"
   ]
  },
  {
   "cell_type": "markdown",
   "id": "a5cb992f",
   "metadata": {},
   "source": [
    "## Aplicando NearMiss\n",
    "    * Método de Undersampling\n",
    "    * Iguala as quantidades de amostras entre as classes reduzindo a classe majoritária (pode haver muita perda de dados)."
   ]
  },
  {
   "cell_type": "code",
   "execution_count": 246,
   "id": "ba8ef682",
   "metadata": {},
   "outputs": [],
   "source": [
    "from imblearn.under_sampling import NearMiss"
   ]
  },
  {
   "cell_type": "markdown",
   "id": "b4f1574a",
   "metadata": {},
   "source": [
    "### Instanciando NR"
   ]
  },
  {
   "cell_type": "code",
   "execution_count": 247,
   "id": "fa3811ad",
   "metadata": {},
   "outputs": [],
   "source": [
    "# Aqui podemos passar os parametros para o nr\n",
    "nr = NearMiss()"
   ]
  },
  {
   "cell_type": "markdown",
   "id": "8359834e",
   "metadata": {},
   "source": [
    "### Aplicando NR"
   ]
  },
  {
   "cell_type": "code",
   "execution_count": 248,
   "id": "432ded84",
   "metadata": {},
   "outputs": [
    {
     "data": {
      "text/plain": [
       "((1630, 29), (1630,))"
      ]
     },
     "execution_count": 248,
     "metadata": {},
     "output_type": "execute_result"
    }
   ],
   "source": [
    "# descobre as classes majoritárias e iguala as minoritarias\n",
    "X, y = nr.fit_resample(X, y)\n",
    "X.shape, y.shape"
   ]
  },
  {
   "cell_type": "markdown",
   "id": "f3038b1e",
   "metadata": {},
   "source": [
    "### Checando as novas amostras\n",
    "    * Reduziu as classes majoritarias a nível de minoritaria ficando com apenas 815 amostras cada, perda extremamente considarada, mas vamos continuar..."
   ]
  },
  {
   "cell_type": "code",
   "execution_count": 249,
   "id": "ffd9e2b7",
   "metadata": {},
   "outputs": [
    {
     "data": {
      "image/png": "[encoded data removed]",
      "text/plain": [
       "<Figure size 432x288 with 1 Axes>"
      ]
     },
     "metadata": {
      "needs_background": "light"
     },
     "output_type": "display_data"
    }
   ],
   "source": [
    "ax = sns.countplot(x=y)"
   ]
  },
  {
   "cell_type": "markdown",
   "id": "23626870",
   "metadata": {},
   "source": [
    "### Treinando modelo (classes balanceadas)"
   ]
  },
  {
   "cell_type": "code",
   "execution_count": 250,
   "id": "fd856047",
   "metadata": {},
   "outputs": [
    {
     "name": "stdout",
     "output_type": "stream",
     "text": [
      "Accuracity de 74.51%\n"
     ]
    },
    {
     "name": "stderr",
     "output_type": "stream",
     "text": [
      "C:\\Users\\devda\\anaconda3\\lib\\site-packages\\sklearn\\linear_model\\_logistic.py:814: ConvergenceWarning: lbfgs failed to converge (status=1):\n",
      "STOP: TOTAL NO. of ITERATIONS REACHED LIMIT.\n",
      "\n",
      "Increase the number of iterations (max_iter) or scale the data as shown in:\n",
      "    https://scikit-learn.org/stable/modules/preprocessing.html\n",
      "Please also refer to the documentation for alternative solver options:\n",
      "    https://scikit-learn.org/stable/modules/linear_model.html#logistic-regression\n",
      "  n_iter_i = _check_optimize_result(\n"
     ]
    }
   ],
   "source": [
    "# Separando treino e teste\n",
    "X_train, X_test, y_train, y_test = train_test_split(X, y, random_state=1 , stratify=y)\n",
    "# Treinando o modelo com classificador LR\n",
    "lr = LogisticRegression(max_iter=200)\n",
    "lr.fit(X_train, y_train)\n",
    "# Testando o modelo\n",
    "y_pred = lr.predict(X_test)\n",
    "acc = accuracy_score(y_test, y_pred)\n",
    "print(f'Accuracity de {acc:,.2%}')"
   ]
  },
  {
   "cell_type": "markdown",
   "id": "07830ef5",
   "metadata": {},
   "source": [
    "### Recall"
   ]
  },
  {
   "cell_type": "code",
   "execution_count": 251,
   "id": "1c0877de",
   "metadata": {},
   "outputs": [
    {
     "name": "stdout",
     "output_type": "stream",
     "text": [
      "              precision    recall  f1-score   support\n",
      "\n",
      "           0       0.71      0.82      0.76       204\n",
      "           1       0.79      0.67      0.72       204\n",
      "\n",
      "    accuracy                           0.75       408\n",
      "   macro avg       0.75      0.75      0.74       408\n",
      "weighted avg       0.75      0.75      0.74       408\n",
      "\n"
     ]
    }
   ],
   "source": [
    "print(classification_report(y_test, y_pred))"
   ]
  },
  {
   "cell_type": "markdown",
   "id": "19536748",
   "metadata": {},
   "source": [
    "### Matriz de confusão"
   ]
  },
  {
   "cell_type": "code",
   "execution_count": 252,
   "id": "ae8b8547",
   "metadata": {},
   "outputs": [
    {
     "name": "stdout",
     "output_type": "stream",
     "text": [
      "Predito    0    1  All\n",
      "Real                  \n",
      "0        168   36  204\n",
      "1         68  136  204\n",
      "All      236  172  408\n"
     ]
    }
   ],
   "source": [
    "print(pd.crosstab(y_test, y_pred, rownames=['Real'], colnames=['Predito'], margins=True))"
   ]
  },
  {
   "cell_type": "markdown",
   "id": "ec58aa6d",
   "metadata": {},
   "source": [
    "NOTAS: Apesar da acuracia cair, nosso modelo conseguiu prever com melhor eficiência ambas as classes."
   ]
  },
  {
   "cell_type": "markdown",
   "id": "7fdb1b78",
   "metadata": {},
   "source": [
    "# Aplicando SMOTE\n",
    "Aqui vamos criar uma função que separa o validor antes de balancear as classes, assmi temos um validador fiel a realidade.\n"
   ]
  },
  {
   "cell_type": "code",
   "execution_count": 253,
   "id": "81de861d",
   "metadata": {},
   "outputs": [],
   "source": [
    "from imblearn.over_sampling import SMOTE"
   ]
  },
  {
   "cell_type": "markdown",
   "id": "c9b06758",
   "metadata": {},
   "source": [
    "### Verificando o desbalanceamento da coluna Target (alvo)"
   ]
  },
  {
   "cell_type": "code",
   "execution_count": 254,
   "id": "019ed3bf",
   "metadata": {},
   "outputs": [
    {
     "data": {
      "text/plain": [
       "0    44396\n",
       "1      815\n",
       "Name: default, dtype: int64"
      ]
     },
     "execution_count": 254,
     "metadata": {},
     "output_type": "execute_result"
    }
   ],
   "source": [
    "# desbalanceamento em quantidade\n",
    "df.default.value_counts()"
   ]
  },
  {
   "cell_type": "code",
   "execution_count": 255,
   "id": "e2721fdb",
   "metadata": {},
   "outputs": [
    {
     "data": {
      "text/plain": [
       "0    98.197341\n",
       "1     1.802659\n",
       "Name: default, dtype: float64"
      ]
     },
     "execution_count": 255,
     "metadata": {},
     "output_type": "execute_result"
    }
   ],
   "source": [
    "# desbalanceamento em porcentagem\n",
    "100* df.default.value_counts(normalize=True)"
   ]
  },
  {
   "cell_type": "markdown",
   "id": "ae720841",
   "metadata": {},
   "source": [
    "### Separar dados e suas classes"
   ]
  },
  {
   "cell_type": "code",
   "execution_count": 256,
   "id": "c1db0df4",
   "metadata": {},
   "outputs": [
    {
     "data": {
      "text/plain": [
       "((45211, 29), (45211, 1))"
      ]
     },
     "execution_count": 256,
     "metadata": {},
     "output_type": "execute_result"
    }
   ],
   "source": [
    "# Separa a variavel alvo da tabela\n",
    "X = df.drop('default', axis=1)\n",
    "y = df[['default']]\n",
    "\n",
    "X.shape, y.shape"
   ]
  },
  {
   "cell_type": "markdown",
   "id": "f39d5b9e",
   "metadata": {},
   "source": [
    "### Separando dados de treino e teste\n",
    "- Aqui vem a sacada, separar primeiro os dados, realizar o CV, para somente depooooois realizar o balanceamento nos dados de treino."
   ]
  },
  {
   "cell_type": "code",
   "execution_count": 257,
   "id": "9ec1f25e",
   "metadata": {},
   "outputs": [
    {
     "data": {
      "text/plain": [
       "((33908, 29), (11303, 29), (33908, 1), (11303, 1))"
      ]
     },
     "execution_count": 257,
     "metadata": {},
     "output_type": "execute_result"
    }
   ],
   "source": [
    "X_treino, X_test, y_treino, y_test = train_test_split(X, y, stratify=y)\n",
    "\n",
    "X_treino.shape, X_test.shape, y_treino.shape, y_test.shape\n"
   ]
  },
  {
   "cell_type": "markdown",
   "id": "7314f891",
   "metadata": {},
   "source": [
    "# SMOTE  (S/ validação balanceada)\n",
    "* Forma correta"
   ]
  },
  {
   "cell_type": "markdown",
   "id": "cc63ff18",
   "metadata": {},
   "source": [
    "#### Validação cruzada\n",
    "- Vamos criar nossa validação cruzada na unha, pra garantir que nossa validação não esteja contaminada com dados balanceados, coisa que o cross validation não faz sem nossa \"ajudinha\""
   ]
  },
  {
   "cell_type": "code",
   "execution_count": 258,
   "id": "7a90cd24",
   "metadata": {},
   "outputs": [],
   "source": [
    "# função de validação cruzada \"artesanal\"\n",
    "from sklearn.model_selection import KFold\n",
    "\n",
    "# Oversamping = False nossa validação não será balanceada\n",
    "def validacao_cruzada(modelo, X, y, oversampling=False):\n",
    "    \n",
    "    kfold = KFold(n_splits=5) # separa a tabela em 5 partes\n",
    "    acuracias_split = []\n",
    "    \n",
    "    # iterando sobres os splits\n",
    "    for idx, (idx_treino, idx_validacao) in enumerate(kfold.split(X)):\n",
    "        X_split_treino = X.iloc[idx_treino, :]\n",
    "        y_split_treino = y.iloc[idx_treino, :]\n",
    "        \n",
    "        # oversampling = TRUE: balanceamento SOMENTE no split de treino\n",
    "        if oversampling:\n",
    "            sm = SMOTE(random_state=40)\n",
    "            X_split_treino, y_split_treino, = sm.fit_resample(X_split_treino, y_split_treino)\n",
    "        \n",
    "        # com os dados balanceados so no treino, vamos treinar nosso modelo\n",
    "        modelo.fit(X_split_treino, y_split_treino.values.flatten())\n",
    "        \n",
    "        X_split_validacao = X.iloc[idx_validacao, :]\n",
    "        y_split_validacao = y.iloc[idx_validacao, :]\n",
    "        \n",
    "        # validacao SEM OVERSAMPLIG, que é o certo!\n",
    "        # amostras desbalanceadas igual mundo real\n",
    "        predições_validacao = modelo.predict(X_split_validacao)\n",
    "        \n",
    "        acuracia_split = accuracy_score(y_split_validacao, predições_validacao)\n",
    "        \n",
    "        acuracias_split.append(acuracia_split)\n",
    "        \n",
    "        acuracia_split = acuracia_split * 100\n",
    "\n",
    "        print(f'Acurácia do split {idx + 1}: {acuracia_split:.2f}%')\n",
    "        \n",
    "    return acuracias_split\n",
    "        "
   ]
  },
  {
   "cell_type": "markdown",
   "id": "e35a155e",
   "metadata": {},
   "source": [
    "## Criando nosso modelo"
   ]
  },
  {
   "cell_type": "code",
   "execution_count": 259,
   "id": "ecdbead5",
   "metadata": {},
   "outputs": [],
   "source": [
    "from sklearn.ensemble import HistGradientBoostingClassifier\n",
    "from statistics import mean\n",
    "\n",
    "# Criando o modelo\n",
    "modelo_hgb = HistGradientBoostingClassifier()"
   ]
  },
  {
   "cell_type": "code",
   "execution_count": 260,
   "id": "859553d8",
   "metadata": {},
   "outputs": [
    {
     "name": "stdout",
     "output_type": "stream",
     "text": [
      "Acurácia do split 1: 98.23%\n",
      "Acurácia do split 2: 97.86%\n",
      "Acurácia do split 3: 98.08%\n",
      "Acurácia do split 4: 98.32%\n",
      "Acurácia do split 5: 98.10%\n"
     ]
    }
   ],
   "source": [
    "media_acuracia_sem_smote = mean(validacao_cruzada(modelo_hgb, X_treino, y_treino, oversampling=False)) * 100"
   ]
  },
  {
   "cell_type": "code",
   "execution_count": 261,
   "id": "d2d58d0c",
   "metadata": {},
   "outputs": [
    {
     "name": "stdout",
     "output_type": "stream",
     "text": [
      "Acurácia do split 1: 97.70%\n",
      "Acurácia do split 2: 97.61%\n",
      "Acurácia do split 3: 97.54%\n",
      "Acurácia do split 4: 97.88%\n",
      "Acurácia do split 5: 97.42%\n"
     ]
    }
   ],
   "source": [
    "media_acuracia_com_smote = mean(validacao_cruzada(modelo_hgb, X_treino, y_treino, oversampling=True)) * 100"
   ]
  },
  {
   "cell_type": "code",
   "execution_count": 262,
   "id": "08c81f5b",
   "metadata": {},
   "outputs": [
    {
     "data": {
      "text/plain": [
       "'Sem smote: 98.12%, com_smote: 97.63%'"
      ]
     },
     "execution_count": 262,
     "metadata": {},
     "output_type": "execute_result"
    }
   ],
   "source": [
    "f'Sem smote: {media_acuracia_sem_smote:.2f}%, com_smote: {media_acuracia_com_smote:.2f}%'"
   ]
  },
  {
   "cell_type": "markdown",
   "id": "519c6f5a",
   "metadata": {},
   "source": [
    "# SMOTE  (C/ validação balanceada)\n",
    "* Forma errada"
   ]
  },
  {
   "cell_type": "code",
   "execution_count": 263,
   "id": "5c4b1fc8",
   "metadata": {},
   "outputs": [
    {
     "name": "stdout",
     "output_type": "stream",
     "text": [
      "Média com o balanceamento da validação: 98.34%\n"
     ]
    }
   ],
   "source": [
    "from sklearn.model_selection import cross_val_score\n",
    "\n",
    "# ERRADO! Não se deve balancear as classes antes do split\n",
    "sm = SMOTE(random_state=42)\n",
    "X_treino, y_treino = sm.fit_resample(X_treino, y_treino)\n",
    "\n",
    "# Os splits criados no cross_val_score estão com a validação BALANCEADA\n",
    "# E isso é distorcer a realidade!\n",
    "media = mean(cross_val_score(modelo_hgb, X_treino, y_treino.values.flatten())) * 100\n",
    "print(f'Média com o balanceamento da validação: {media:.2f}%')"
   ]
  },
  {
   "cell_type": "markdown",
   "id": "96370b39",
   "metadata": {},
   "source": [
    "# Conclusão\n",
    "- Com a validação balanceada tivemos uma acurácia levemente melhor, porém o modelo não esta preparado para omundo real, sem balanceamento na validação a acurácia pode diminuir, porém na vida real o modelo será mais acertivo.\n",
    "- Então concluimos que nem sempre uma acurácia mais alta é garantia de acertividade com dados externos."
   ]
  }
 ],
 "metadata": {
  "kernelspec": {
   "display_name": "Python 3 (ipykernel)",
   "language": "python",
   "name": "python3"
  },
  "language_info": {
   "codemirror_mode": {
    "name": "ipython",
    "version": 3
   },
   "file_extension": ".py",
   "mimetype": "text/x-python",
   "name": "python",
   "nbconvert_exporter": "python",
   "pygments_lexer": "ipython3",
   "version": "3.9.12"
  }
 },
 "nbformat": 4,
 "nbformat_minor": 5
}
